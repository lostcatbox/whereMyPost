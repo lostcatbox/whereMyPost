{
 "cells": [
  {
   "cell_type": "code",
   "execution_count": 8,
   "metadata": {},
   "outputs": [],
   "source": [
    "\n",
    "from bs4 import BeautifulSoup\n",
    "import time\n",
    "import requests\n"
   ]
  },
  {
   "cell_type": "code",
   "execution_count": 40,
   "metadata": {
    "scrolled": true
   },
   "outputs": [],
   "source": [
    "import requests\n",
    "\n",
    "cookies = {\n",
    "    '_ga': 'GA1.2.537669306.1578450884',\n",
    "    'SCOUTER': 'x54k333pitk7sg',\n",
    "    'cjlogisticsFrontLangCookie': 'ko',\n",
    "    '_gid': 'GA1.2.1437281108.1580557487',\n",
    "    'JSESSIONID': 'FDCC027CC8C8594AF3498755ABFDB7D5.front11',\n",
    "}\n",
    "\n",
    "headers = {\n",
    "    'Connection': 'keep-alive',\n",
    "    'Pragma': 'no-cache',\n",
    "    'Cache-Control': 'no-cache',\n",
    "    'Accept': 'application/json, text/javascript, */*; q=0.01',\n",
    "    'Origin': 'https://www.cjlogistics.com',\n",
    "    'X-Requested-With': 'XMLHttpRequest',\n",
    "    'User-Agent': 'Mozilla/5.0 (Macintosh; Intel Mac OS X 10_15_2) AppleWebKit/537.36 (KHTML, like Gecko) Chrome/79.0.3945.88 Safari/537.36',\n",
    "    'Content-Type': 'application/x-www-form-urlencoded; charset=UTF-8',\n",
    "    'Sec-Fetch-Site': 'same-origin',\n",
    "    'Sec-Fetch-Mode': 'cors',\n",
    "    'Referer': 'https://www.cjlogistics.com/ko/tool/parcel/tracking',\n",
    "    'Accept-Encoding': 'gzip, deflate, br',\n",
    "    'Accept-Language': 'ko-KR,ko;q=0.9,en-US;q=0.8,en;q=0.7,ja;q=0.6',\n",
    "}\n",
    "\n",
    "data = {\n",
    "  '_csrf': '11a1b770-fb54-4112-aa95-c68e9fc3d7de',\n",
    "  'paramInvcNo': '349159576510'\n",
    "}\n",
    "\n",
    "html = requests.post('https://www.cjlogistics.com/ko/tool/parcel/tracking-detail', headers=headers, cookies=cookies, data=data)\n",
    "\n"
   ]
  },
  {
   "cell_type": "code",
   "execution_count": 41,
   "metadata": {},
   "outputs": [
    {
     "data": {
      "text/plain": [
       "<Response [200]>"
      ]
     },
     "execution_count": 41,
     "metadata": {},
     "output_type": "execute_result"
    }
   ],
   "source": [
    "response \n"
   ]
  },
  {
   "cell_type": "code",
   "execution_count": 43,
   "metadata": {
    "scrolled": true
   },
   "outputs": [
    {
     "name": "stdout",
     "output_type": "stream",
     "text": [
      "보내시는 고객님으로부터 상품을 인수받았습니다\n",
      "2020-01-07 07:42:16.0\n",
      "강서직영(윤성태)\n",
      "집화처리\n"
     ]
    }
   ],
   "source": [
    "raw = response.json()\n",
    "detail = raw[\"parcelDetailResultMap\"][\"resultList\"]\n",
    "\n",
    "post_infor= detail[0][\"crgNm\"]\n",
    "post_arrived_time=detail[0][\"dTime\"]\n",
    "post_place=detail[0][\"regBranNm\"]\n",
    "post_status= detail[0][\"scanNm\"]\n",
    "\n",
    "print(post_infor)\n",
    "print(post_arrived_time)\n",
    "print(post_place)\n",
    "print(post_status)"
   ]
  },
  {
   "cell_type": "code",
   "execution_count": 1,
   "metadata": {},
   "outputs": [
    {
     "ename": "SyntaxError",
     "evalue": "invalid syntax (<ipython-input-1-0128abb360e6>, line 1)",
     "output_type": "error",
     "traceback": [
      "\u001b[0;36m  File \u001b[0;32m\"<ipython-input-1-0128abb360e6>\"\u001b[0;36m, line \u001b[0;32m1\u001b[0m\n\u001b[0;31m    ----------------\u001b[0m\n\u001b[0m                    ^\u001b[0m\n\u001b[0;31mSyntaxError\u001b[0m\u001b[0;31m:\u001b[0m invalid syntax\n"
     ]
    }
   ],
   "source": [
    "----------------\n"
   ]
  },
  {
   "cell_type": "code",
   "execution_count": 14,
   "metadata": {},
   "outputs": [
    {
     "name": "stdout",
     "output_type": "stream",
     "text": [
      "['보내시는 고객님으로부터 상품을 인수받았습니다', '2020-01-07 07:42:16.0', '강서직영(윤성태)', '집화처리']\n",
      "[{'nsDlvNm': '', 'crgNm': '보내시는 고객님으로부터 상품을 인수받았습니다', 'crgSt': '11', 'dTime': '2020-01-07 07:42:16.0', 'empImgNm': 'EMP_IMG_NM', 'regBranId': '8451', 'regBranNm': '강서직영(윤성태)', 'scanNm': '집화처리'}, {'nsDlvNm': '', 'crgNm': '물류터미널로 상품이 이동중입니다.', 'crgSt': '41', 'dTime': '2020-01-07 15:17:29.0', 'empImgNm': 'EMP_IMG_NM', 'regBranId': 'V157', 'regBranNm': '강서A', 'scanNm': '간선상차'}, {'nsDlvNm': '', 'crgNm': '배송지역으로 상품이 이동중입니다.', 'crgSt': '44', 'dTime': '2020-01-09 00:46:26.0', 'empImgNm': 'EMP_IMG_NM', 'regBranId': 'V010', 'regBranNm': '대전HUB', 'scanNm': '간선상차'}, {'nsDlvNm': '', 'crgNm': '고객님의 상품이 배송지에 도착하였습니다.(배송예정:조성진 010-8567-3131)', 'crgSt': '42', 'dTime': '2020-01-09 07:54:15.0', 'empImgNm': 'EMP_IMG_NM', 'regBranId': 'V560', 'regBranNm': '예천', 'scanNm': '간선하차'}, {'nsDlvNm': '', 'crgNm': '고객님의 상품을 배송할 예정입니다.(15∼17시)(배송담당:조성진 010-8567-3131)', 'crgSt': '82', 'dTime': '2020-01-09 11:21:38.0', 'empImgNm': '583743', 'regBranId': '8252', 'regBranNm': '경북예천중앙', 'scanNm': '배달출발'}, {'nsDlvNm': '', 'crgNm': '고객님의 상품이 배송완료 되었습니다.(담당사원:조성진 010-8567-3131)', 'crgSt': '91', 'dTime': '2020-01-09 16:19:59.0', 'empImgNm': 'EMP_IMG_NM', 'regBranId': '8252', 'regBranNm': '경북예천중앙', 'scanNm': '배달완료'}]\n"
     ]
    }
   ],
   "source": [
    "post_number = '349159576510'\n",
    "\n",
    "cookies = {\n",
    "            '_ga': 'GA1.2.537669306.1578450884',\n",
    "            'SCOUTER': 'x54k333pitk7sg',\n",
    "            'cjlogisticsFrontLangCookie': 'ko',\n",
    "            '_gid': 'GA1.2.1437281108.1580557487',\n",
    "            'JSESSIONID': 'FDCC027CC8C8594AF3498755ABFDB7D5.front11',\n",
    "        }\n",
    "\n",
    "headers = {\n",
    "            'Connection': 'keep-alive',\n",
    "            'Pragma': 'no-cache',\n",
    "            'Cache-Control': 'no-cache',\n",
    "            'Accept': 'application/json, text/javascript, */*; q=0.01',\n",
    "            'Origin': 'https://www.cjlogistics.com',\n",
    "            'X-Requested-With': 'XMLHttpRequest',\n",
    "            'User-Agent': 'Mozilla/5.0 (Macintosh; Intel Mac OS X 10_15_2) AppleWebKit/537.36 (KHTML, like Gecko) Chrome/79.0.3945.88 Safari/537.36',\n",
    "            'Content-Type': 'application/x-www-form-urlencoded; charset=UTF-8',\n",
    "            'Sec-Fetch-Site': 'same-origin',\n",
    "            'Sec-Fetch-Mode': 'cors',\n",
    "            'Referer': 'https://www.cjlogistics.com/ko/tool/parcel/tracking',\n",
    "            'Accept-Encoding': 'gzip, deflate, br',\n",
    "            'Accept-Language': 'ko-KR,ko;q=0.9,en-US;q=0.8,en;q=0.7,ja;q=0.6',\n",
    "        }\n",
    "\n",
    "data = {\n",
    "            '_csrf': '11a1b770-fb54-4112-aa95-c68e9fc3d7de',\n",
    "            'paramInvcNo': post_number\n",
    "        }\n",
    "\n",
    "html = requests.post('https://www.cjlogistics.com/ko/tool/parcel/tracking-detail', headers=headers,\n",
    "                             cookies=cookies,\n",
    "                             data=data)\n",
    "raw = html.json()\n",
    "detail = raw[\"parcelDetailResultMap\"][\"resultList\"]\n",
    "\n",
    "post_infor = detail[0][\"crgNm\"]\n",
    "post_arrived_time = detail[0][\"dTime\"]\n",
    "post_place = detail[0][\"regBranNm\"]\n",
    "post_status = detail[0][\"scanNm\"]\n",
    "\n",
    "post_all_detail = [post_infor, post_arrived_time ,post_place, post_status]\n",
    "\n",
    "print(post_all_detail)\n",
    "print(detail)\n"
   ]
  },
  {
   "cell_type": "code",
   "execution_count": null,
   "metadata": {},
   "outputs": [],
   "source": []
  }
 ],
 "metadata": {
  "kernelspec": {
   "display_name": "Python 3",
   "language": "python",
   "name": "python3"
  },
  "language_info": {
   "codemirror_mode": {
    "name": "ipython",
    "version": 3
   },
   "file_extension": ".py",
   "mimetype": "text/x-python",
   "name": "python",
   "nbconvert_exporter": "python",
   "pygments_lexer": "ipython3",
   "version": "3.8.1"
  }
 },
 "nbformat": 4,
 "nbformat_minor": 4
}
